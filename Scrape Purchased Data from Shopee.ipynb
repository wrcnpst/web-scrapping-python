{
 "cells": [
  {
   "cell_type": "markdown",
   "metadata": {},
   "source": [
    "# Scrape Data from Shopee with beautifulsoup and selenium\n",
    "### Data for analysing total amount discounted price from the buyer, which will include:\n",
    "- ใช้โค้ด Shopee แล้ว\n",
    "- ใช้โค้ดส่วนลดของร้านค้า\n",
    "- ส่วนลดค่าจัดส่ง\n",
    "- ส่วนลด Shopee Coins\n",
    "- รวมการสั่งซื้อ\n",
    "- รวมค่าสินค้า\n",
    "หากผิดพลาดประการใดแจ้งได้เลยครับ"
   ]
  },
  {
   "cell_type": "code",
   "execution_count": 94,
   "metadata": {},
   "outputs": [
    {
     "name": "stdout",
     "output_type": "stream",
     "text": [
      "Collecting python-dotenv\n",
      "  Downloading python_dotenv-1.0.0-py3-none-any.whl (19 kB)\n",
      "Installing collected packages: python-dotenv\n",
      "Successfully installed python-dotenv-1.0.0\n"
     ]
    },
    {
     "name": "stderr",
     "output_type": "stream",
     "text": [
      "DEPRECATION: textract 1.6.5 has a non-standard dependency specifier extract-msg<=0.29.*. pip 23.3 will enforce this behaviour change. A possible replacement is to upgrade to a newer version of textract or contact the author to suggest that they release a version with a conforming dependency specifiers. Discussion can be found at https://github.com/pypa/pip/issues/12063\n",
      "\n",
      "[notice] A new release of pip is available: 23.2.1 -> 23.3\n",
      "[notice] To update, run: C:\\Users\\DeRoxy\\AppData\\Local\\Microsoft\\WindowsApps\\PythonSoftwareFoundation.Python.3.10_qbz5n2kfra8p0\\python.exe -m pip install --upgrade pip\n"
     ]
    }
   ],
   "source": [
    "# !pip install selenium\n",
    "# !pip install bs4\n",
    "# !pip install python-dotenv"
   ]
  },
  {
   "cell_type": "markdown",
   "metadata": {},
   "source": [
    "## Code ที่ต้อง Import"
   ]
  },
  {
   "cell_type": "code",
   "execution_count": 50,
   "metadata": {},
   "outputs": [],
   "source": [
    "import pandas as pd\n",
    "from selenium import webdriver\n",
    "from selenium.webdriver.firefox.options import Options\n",
    "from selenium.webdriver.common.keys import Keys\n",
    "from dotenv import dotenv_values\n",
    "import bs4\n",
    "import time\n",
    "import re"
   ]
  },
  {
   "cell_type": "markdown",
   "metadata": {},
   "source": [
    "## Experiment - Play Ground"
   ]
  },
  {
   "cell_type": "markdown",
   "metadata": {},
   "source": [
    "### Selenium เพื่อการเข้า Web"
   ]
  },
  {
   "cell_type": "code",
   "execution_count": 51,
   "metadata": {},
   "outputs": [],
   "source": [
    "#Open browser ด้วย Selenium\n",
    "options = Options()\n",
    "options.binary_location = r'C:\\Program Files\\Mozilla Firefox\\firefox.exe'\n",
    "driver = webdriver.Chrome()\n",
    "driver.get('https://shopee.co.th/')\n"
   ]
  },
  {
   "cell_type": "code",
   "execution_count": 53,
   "metadata": {},
   "outputs": [],
   "source": [
    "#เลือกภาษาไทย Selenium\n",
    "thai_button = driver.find_element('xpath','/html/body/div[2]/div[1]/div[1]/div/div[3]/div[1]/button')\n",
    "thai_button.click()\n",
    "#time.sleep(3)"
   ]
  },
  {
   "cell_type": "code",
   "execution_count": 54,
   "metadata": {},
   "outputs": [],
   "source": [
    "#ปิดโฆษณา Selenium\n",
    "close_adver = driver.execute_script('return document.querySelector(\"shopee-banner-popup-stateful\").shadowRoot.querySelector(\"div.shopee-popup__close-btn\")')\n",
    "close_adver.click()"
   ]
  },
  {
   "cell_type": "code",
   "execution_count": 55,
   "metadata": {},
   "outputs": [],
   "source": [
    "#Search ใน Search bar ของ Shopee\n",
    "search = driver.find_element('xpath','//*[@id=\"main\"]/div/header/div[2]/div/div[1]/form/div/div[1]/input')\n",
    "search.send_keys('computer')"
   ]
  },
  {
   "cell_type": "code",
   "execution_count": 56,
   "metadata": {},
   "outputs": [],
   "source": [
    "#กด Enter\n",
    "search.send_keys(Keys.ENTER)"
   ]
  },
  {
   "cell_type": "code",
   "execution_count": 57,
   "metadata": {},
   "outputs": [],
   "source": [
    "#login\n",
    "from dotenv import dotenv_values\n",
    "\n",
    "# Load the environment variables from the .env file\n",
    "env_vars = dotenv_values('.env')\n",
    "\n",
    "# Access the values using the keys\n",
    "username = env_vars['USERNAME']\n",
    "password = env_vars['PASSWORD']\n",
    "# Locate the username input field and enter the username\n",
    "username_field = driver.find_element(\"name\", \"loginKey\")\n",
    "username_field.clear()  # Clear any existing text in the field\n",
    "username_field.send_keys(username)\n",
    "time.sleep(0.5)\n",
    "\n",
    "# Locate the password input field and enter the password\n",
    "password_field = driver.find_element(\"name\", \"password\")\n",
    "password_field.clear()  # Clear any existing text in the field\n",
    "password_field.send_keys(password)\n",
    "time.sleep(0.5)\n",
    "\n",
    "password_field.send_keys(Keys.ENTER)\n"
   ]
  },
  {
   "cell_type": "code",
   "execution_count": 58,
   "metadata": {},
   "outputs": [],
   "source": [
    "# test_url = 'https://shopee.co.th/user/purchase/order/150628041206898?type=6'\n",
    "test_url = 'https://shopee.co.th/user/purchase/order/150628007234193?type=6'\n",
    "test_url = 'https://shopee.co.th/user/purchase/order/128841462252171?type=7'\n",
    "\n",
    "driver.get(test_url)\n",
    "time.sleep(1)"
   ]
  },
  {
   "cell_type": "markdown",
   "metadata": {},
   "source": [
    "### Scraping Process"
   ]
  },
  {
   "cell_type": "code",
   "execution_count": 59,
   "metadata": {},
   "outputs": [],
   "source": [
    "data = driver.page_source #ดึงข้อมูลจากหน้าเว็บ\n",
    "soup = bs4.BeautifulSoup(data) #จัดในรูปแบบ BeautifulSoup"
   ]
  },
  {
   "cell_type": "code",
   "execution_count": 60,
   "metadata": {},
   "outputs": [
    {
     "data": {
      "text/plain": [
       "[<div class=\"TokOv1\"><div class=\"_8kMYJ3\"><span>รวมค่าสินค้า</span></div><div class=\"CxyZBG\"><div>฿2,190</div></div></div>,\n",
       " <div class=\"TokOv1\"><div class=\"_8kMYJ3\"><span>ค่าจัดส่ง</span></div><div class=\"CxyZBG\"><div>฿134</div></div></div>,\n",
       " <div class=\"TokOv1\"><div class=\"_8kMYJ3\"><span>ใช้ 144 Shopee Coins</span></div><div class=\"CxyZBG\"><div>-฿144</div></div></div>,\n",
       " <div class=\"TokOv1 a59vwO\"><div class=\"_8kMYJ3 B6pCRN\"><span>รวมการสั่งซื้อ</span></div><div class=\"CxyZBG\"><div class=\"_8ZGgbl\">฿2,180</div></div></div>]"
      ]
     },
     "execution_count": 60,
     "metadata": {},
     "output_type": "execute_result"
    }
   ],
   "source": [
    "elements = \"#main > div > div.wf9gag > div > div.xMDeox > div > div > main > section:nth-child(12) > div > section > div.RZJjTX > div\"\n",
    "soup.select(elements) #css selector"
   ]
  },
  {
   "cell_type": "code",
   "execution_count": 61,
   "metadata": {},
   "outputs": [
    {
     "data": {
      "text/plain": [
       "4"
      ]
     },
     "execution_count": 61,
     "metadata": {},
     "output_type": "execute_result"
    }
   ],
   "source": [
    "el=soup.select(elements)\n",
    "len(el)"
   ]
  },
  {
   "cell_type": "markdown",
   "metadata": {},
   "source": [
    "### Scrape"
   ]
  },
  {
   "cell_type": "code",
   "execution_count": 62,
   "metadata": {},
   "outputs": [
    {
     "name": "stdout",
     "output_type": "stream",
     "text": [
      "https://shopee.co.th/user/purchase/order/128841462252171?type=7 รวมค่าสินค้า 2,190\n",
      "https://shopee.co.th/user/purchase/order/128841462252171?type=7 ค่าจัดส่ง 134\n",
      "https://shopee.co.th/user/purchase/order/128841462252171?type=7 ใช้ 144 Shopee Coins -144\n",
      "https://shopee.co.th/user/purchase/order/128841462252171?type=7 รวมการสั่งซื้อ 2,180\n"
     ]
    }
   ],
   "source": [
    "#ดึงข้อมูลชื่อ\n",
    "for e in el:\n",
    "    title = e.select_one(f\" div.TokOv1 > div._8kMYJ3 > span\").text.strip()\n",
    "    price = e.select_one(f\" div.TokOv1 > div.CxyZBG > div\").text.strip().replace(\"฿\", \"\")\n",
    "    print(test_url, title, price)"
   ]
  },
  {
   "cell_type": "markdown",
   "metadata": {},
   "source": [
    "## Scrape ข้อมูลทั้งหมดที่ต้องการ"
   ]
  },
  {
   "cell_type": "markdown",
   "metadata": {},
   "source": [
    "### Login function"
   ]
  },
  {
   "cell_type": "code",
   "execution_count": 65,
   "metadata": {},
   "outputs": [],
   "source": [
    "# Function to perform login using Selenium (if needed)\n",
    "def perform_login(username, password):\n",
    "    # Configure the webdriver (make sure to specify the path to your webdriver)\n",
    "    # driver = webdriver.Edge('C:\\\\ProgramData\\\\Microsoft\\\\Windows\\\\Start Menu\\\\Programs\\\\Microsoft Edge.lnk')\n",
    "    driver = webdriver.Chrome()\n",
    "\n",
    "    # Navigate to the login page\n",
    "    driver.get('https://shopee.co.th/buyer/login')\n",
    "    time.sleep(2)  # Add a delay to ensure page loading\n",
    "\n",
    "    # Handle the language selection popup dialog\n",
    "    # Find the button element by class name and text\n",
    "    thai_button = driver.find_element('xpath','/html/body/div[2]/div[1]/div[1]/div/div[3]/div[1]/button')\n",
    "    thai_button.click()\n",
    "\n",
    "    # Locate the username input field and enter the username\n",
    "    username_field = driver.find_element(\"name\", \"loginKey\")\n",
    "    username_field.clear()  # Clear any existing text in the field\n",
    "    username_field.send_keys(username)\n",
    "    time.sleep(0.5)\n",
    "\n",
    "    # Locate the password input field and enter the password\n",
    "    password_field = driver.find_element(\"name\", \"password\")\n",
    "    password_field.clear()  # Clear any existing text in the field\n",
    "    password_field.send_keys(password)\n",
    "    time.sleep(0.5)\n",
    "\n",
    "    password_field.send_keys(Keys.ENTER)\n",
    "    time.sleep(1.5)\n",
    "\n",
    "    return driver\n"
   ]
  },
  {
   "cell_type": "markdown",
   "metadata": {},
   "source": [
    "### Scraping function"
   ]
  },
  {
   "cell_type": "code",
   "execution_count": 73,
   "metadata": {},
   "outputs": [],
   "source": [
    "def scrape_data(url, driver):\n",
    "\n",
    "    # Navigate to the URL\n",
    "    driver.get(url)\n",
    "    time.sleep(2)\n",
    "\n",
    "    # Get the data\n",
    "    data = driver.page_source\n",
    "    soup = bs4.BeautifulSoup(data)\n",
    "\n",
    "    # Extract the Elements\n",
    "    elements = \"#main > div > div.wf9gag > div > div.xMDeox > div > div > main > section:nth-child(12) > div > section > div.RZJjTX > div\"\n",
    "    el = soup.select(elements)\n",
    "\n",
    "    data = []\n",
    "    # Extract data in elements\n",
    "    for e in el:\n",
    "        title = e.select_one(f\" div.TokOv1 > div._8kMYJ3 > span\").text.strip()\n",
    "        price = e.select_one(f\" div.TokOv1 > div.CxyZBG > div\").text.strip().replace(\"฿\",\"\").replace(\",\", \"\").replace(\" \", \"\")\n",
    "        price = float(price)\n",
    "        extracted = [url, title, price]\n",
    "        data.append(extracted)\n",
    "\n",
    "    return data"
   ]
  },
  {
   "cell_type": "markdown",
   "metadata": {},
   "source": [
    "### Main()"
   ]
  },
  {
   "cell_type": "code",
   "execution_count": 77,
   "metadata": {},
   "outputs": [
    {
     "name": "stdout",
     "output_type": "stream",
     "text": [
      "1/207 https://shopee.co.th/user/purchase/order/127121523237033\n",
      "2/207 https://shopee.co.th/user/purchase/order/127121523237034\n",
      "3/207 https://shopee.co.th/user/purchase/order/127235762277872\n",
      "4/207 https://shopee.co.th/user/purchase/order/127121523237032\n",
      "5/207 https://shopee.co.th/user/purchase/order/127816839246030\n",
      "6/207 https://shopee.co.th/user/purchase/order/127235762277868\n",
      "7/207 https://shopee.co.th/user/purchase/order/127235762277873\n",
      "8/207 https://shopee.co.th/user/purchase/order/127708734208715\n",
      "9/207 https://shopee.co.th/user/purchase/order/127708734208716\n",
      "10/207 https://shopee.co.th/user/purchase/order/127235762277869\n",
      "11/207 https://shopee.co.th/user/purchase/order/128841462252171\n",
      "12/207 https://shopee.co.th/user/purchase/order/127708734208718\n",
      "13/207 https://shopee.co.th/user/purchase/order/127708734208717\n",
      "14/207 https://shopee.co.th/user/purchase/order/127811341287858\n",
      "15/207 https://shopee.co.th/user/purchase/order/128841462252172\n",
      "16/207 https://shopee.co.th/user/purchase/order/127708734208719\n",
      "17/207 https://shopee.co.th/user/purchase/order/127820315256418\n",
      "18/207 https://shopee.co.th/user/purchase/order/127708734208720\n",
      "19/207 https://shopee.co.th/user/purchase/order/127816839246032\n",
      "20/207 https://shopee.co.th/user/purchase/order/127811341287860\n",
      "21/207 https://shopee.co.th/user/purchase/order/127821682251082\n",
      "22/207 https://shopee.co.th/user/purchase/order/127811341287859\n",
      "23/207 https://shopee.co.th/user/purchase/order/127816839246031\n",
      "24/207 https://shopee.co.th/user/purchase/order/127835655236029\n",
      "25/207 https://shopee.co.th/user/purchase/order/128063780241461\n",
      "26/207 https://shopee.co.th/user/purchase/order/127821682251084\n",
      "27/207 https://shopee.co.th/user/purchase/order/127821682251083\n",
      "28/207 https://shopee.co.th/user/purchase/order/127821682251081\n",
      "29/207 https://shopee.co.th/user/purchase/order/127918947207641\n",
      "30/207 https://shopee.co.th/user/purchase/order/127848543238247\n",
      "31/207 https://shopee.co.th/user/purchase/order/127918947207639\n",
      "32/207 https://shopee.co.th/user/purchase/order/127918947207642\n",
      "33/207 https://shopee.co.th/user/purchase/order/127918947207640\n",
      "34/207 https://shopee.co.th/user/purchase/order/128419687261889\n",
      "35/207 https://shopee.co.th/user/purchase/order/128401882292051\n",
      "36/207 https://shopee.co.th/user/purchase/order/128418909289773\n",
      "37/207 https://shopee.co.th/user/purchase/order/128418909289773\n",
      "38/207 https://shopee.co.th/user/purchase/order/128419687261887\n",
      "39/207 https://shopee.co.th/user/purchase/order/128841462252173\n",
      "40/207 https://shopee.co.th/user/purchase/order/129454205296134\n",
      "41/207 https://shopee.co.th/user/purchase/order/129454205296133\n",
      "42/207 https://shopee.co.th/user/purchase/order/129454205296136\n",
      "43/207 https://shopee.co.th/user/purchase/order/129461371253602\n",
      "44/207 https://shopee.co.th/user/purchase/order/129454205296135\n",
      "45/207 https://shopee.co.th/user/purchase/order/129454205296137\n",
      "46/207 https://shopee.co.th/user/purchase/order/130651059217042\n",
      "47/207 https://shopee.co.th/user/purchase/order/129461371253601\n",
      "48/207 https://shopee.co.th/user/purchase/order/129461371253601\n",
      "49/207 https://shopee.co.th/user/purchase/order/130651059217041\n",
      "50/207 https://shopee.co.th/user/purchase/order/130150223202272\n",
      "51/207 https://shopee.co.th/user/purchase/order/131005237204847\n",
      "52/207 https://shopee.co.th/user/purchase/order/131005237204846\n",
      "53/207 https://shopee.co.th/user/purchase/order/130149557261122\n",
      "54/207 https://shopee.co.th/user/purchase/order/131437731251297\n",
      "55/207 https://shopee.co.th/user/purchase/order/131005237204850\n",
      "56/207 https://shopee.co.th/user/purchase/order/131005237204848\n",
      "57/207 https://shopee.co.th/user/purchase/order/131005237204851\n",
      "58/207 https://shopee.co.th/user/purchase/order/131005237204852\n",
      "59/207 https://shopee.co.th/user/purchase/order/131005237204849\n",
      "60/207 https://shopee.co.th/user/purchase/order/132475047260823\n",
      "61/207 https://shopee.co.th/user/purchase/order/132475047260825\n",
      "62/207 https://shopee.co.th/user/purchase/order/131437731251298\n",
      "63/207 https://shopee.co.th/user/purchase/order/132475047260824\n",
      "64/207 https://shopee.co.th/user/purchase/order/132915914226430\n",
      "65/207 https://shopee.co.th/user/purchase/order/132915914226429\n",
      "66/207 https://shopee.co.th/user/purchase/order/133075213288880\n",
      "67/207 https://shopee.co.th/user/purchase/order/133608117219831\n",
      "68/207 https://shopee.co.th/user/purchase/order/133608117219830\n",
      "69/207 https://shopee.co.th/user/purchase/order/133608117219832\n",
      "70/207 https://shopee.co.th/user/purchase/order/133863610263706\n",
      "71/207 https://shopee.co.th/user/purchase/order/133863610263708\n",
      "72/207 https://shopee.co.th/user/purchase/order/134472270238428\n",
      "73/207 https://shopee.co.th/user/purchase/order/133863610263707\n",
      "74/207 https://shopee.co.th/user/purchase/order/134472270238425\n",
      "75/207 https://shopee.co.th/user/purchase/order/134472270238426\n",
      "76/207 https://shopee.co.th/user/purchase/order/138533709283211\n",
      "77/207 https://shopee.co.th/user/purchase/order/134472270238429\n",
      "78/207 https://shopee.co.th/user/purchase/order/134472270238429\n",
      "79/207 https://shopee.co.th/user/purchase/order/134472270238427\n",
      "80/207 https://shopee.co.th/user/purchase/order/134472270238432\n",
      "81/207 https://shopee.co.th/user/purchase/order/134472270238431\n",
      "82/207 https://shopee.co.th/user/purchase/order/134472270238430\n",
      "83/207 https://shopee.co.th/user/purchase/order/136803961277653\n",
      "84/207 https://shopee.co.th/user/purchase/order/136803961277655\n",
      "85/207 https://shopee.co.th/user/purchase/order/135660522244084\n",
      "86/207 https://shopee.co.th/user/purchase/order/135660522244083\n",
      "87/207 https://shopee.co.th/user/purchase/order/136803961277655\n",
      "88/207 https://shopee.co.th/user/purchase/order/136803961277652\n",
      "89/207 https://shopee.co.th/user/purchase/order/136803961277654\n",
      "90/207 https://shopee.co.th/user/purchase/order/136803961277656\n",
      "91/207 https://shopee.co.th/user/purchase/order/136803961277651\n",
      "92/207 https://shopee.co.th/user/purchase/order/137400506232910\n",
      "93/207 https://shopee.co.th/user/purchase/order/137400506232911\n",
      "94/207 https://shopee.co.th/user/purchase/order/137398169254504\n",
      "95/207 https://shopee.co.th/user/purchase/order/137994171296982\n",
      "96/207 https://shopee.co.th/user/purchase/order/137400506232912\n",
      "97/207 https://shopee.co.th/user/purchase/order/137398169254505\n",
      "98/207 https://shopee.co.th/user/purchase/order/137583126254485\n",
      "99/207 https://shopee.co.th/user/purchase/order/137994171296981\n",
      "100/207 https://shopee.co.th/user/purchase/order/138007304275329\n",
      "101/207 https://shopee.co.th/user/purchase/order/138533709283210\n",
      "102/207 https://shopee.co.th/user/purchase/order/137398169254502\n",
      "103/207 https://shopee.co.th/user/purchase/order/139288826212923\n",
      "104/207 https://shopee.co.th/user/purchase/order/140762627287597\n",
      "105/207 https://shopee.co.th/user/purchase/order/140762627287596\n",
      "106/207 https://shopee.co.th/user/purchase/order/140762627287599\n",
      "107/207 https://shopee.co.th/user/purchase/order/140762627287598\n",
      "108/207 https://shopee.co.th/user/purchase/order/141980334200620\n",
      "109/207 https://shopee.co.th/user/purchase/order/141980334200621\n",
      "110/207 https://shopee.co.th/user/purchase/order/141980334200619\n",
      "111/207 https://shopee.co.th/user/purchase/order/141980334200618\n",
      "112/207 https://shopee.co.th/user/purchase/order/142570797251542\n",
      "113/207 https://shopee.co.th/user/purchase/order/142570737201169\n",
      "114/207 https://shopee.co.th/user/purchase/order/142570797251543\n",
      "115/207 https://shopee.co.th/user/purchase/order/142570737201168\n",
      "116/207 https://shopee.co.th/user/purchase/order/142570737201170\n",
      "117/207 https://shopee.co.th/user/purchase/order/142852485233209\n",
      "118/207 https://shopee.co.th/user/purchase/order/142852485233208\n",
      "119/207 https://shopee.co.th/user/purchase/order/142852485233208\n",
      "120/207 https://shopee.co.th/user/purchase/order/142932926262261\n",
      "121/207 https://shopee.co.th/user/purchase/order/143100583230921\n",
      "122/207 https://shopee.co.th/user/purchase/order/143137267292263\n",
      "123/207 https://shopee.co.th/user/purchase/order/143138155269090\n",
      "124/207 https://shopee.co.th/user/purchase/order/143137267292264\n",
      "125/207 https://shopee.co.th/user/purchase/order/143137267292264\n",
      "126/207 https://shopee.co.th/user/purchase/order/143137267292265\n",
      "127/207 https://shopee.co.th/user/purchase/order/143137838211424\n",
      "128/207 https://shopee.co.th/user/purchase/order/143138087274792\n",
      "129/207 https://shopee.co.th/user/purchase/order/145002343244921\n",
      "130/207 https://shopee.co.th/user/purchase/order/145002343244920\n",
      "131/207 https://shopee.co.th/user/purchase/order/145002343244923\n",
      "132/207 https://shopee.co.th/user/purchase/order/145002343244922\n",
      "133/207 https://shopee.co.th/user/purchase/order/145788594247647\n",
      "134/207 https://shopee.co.th/user/purchase/order/146222029206451\n",
      "135/207 https://shopee.co.th/user/purchase/order/147519225289119\n",
      "136/207 https://shopee.co.th/user/purchase/order/146222029206449\n",
      "137/207 https://shopee.co.th/user/purchase/order/146222029206448\n",
      "138/207 https://shopee.co.th/user/purchase/order/146222029206452\n",
      "139/207 https://shopee.co.th/user/purchase/order/146565615287686\n",
      "140/207 https://shopee.co.th/user/purchase/order/146567601227446\n",
      "141/207 https://shopee.co.th/user/purchase/order/146565615287685\n",
      "142/207 https://shopee.co.th/user/purchase/order/146565615287681\n",
      "143/207 https://shopee.co.th/user/purchase/order/146565615287682\n",
      "144/207 https://shopee.co.th/user/purchase/order/146565615287680\n",
      "145/207 https://shopee.co.th/user/purchase/order/146565615287683\n",
      "146/207 https://shopee.co.th/user/purchase/order/146565615287684\n",
      "147/207 https://shopee.co.th/user/purchase/order/147171927218740\n",
      "148/207 https://shopee.co.th/user/purchase/order/147171927218738\n",
      "149/207 https://shopee.co.th/user/purchase/order/147519225289120\n",
      "150/207 https://shopee.co.th/user/purchase/order/147519225289121\n",
      "151/207 https://shopee.co.th/user/purchase/order/147961049273228\n",
      "152/207 https://shopee.co.th/user/purchase/order/147960435292506\n",
      "153/207 https://shopee.co.th/user/purchase/order/147960350225455\n",
      "154/207 https://shopee.co.th/user/purchase/order/147961049273229\n",
      "155/207 https://shopee.co.th/user/purchase/order/147960869205064\n",
      "156/207 https://shopee.co.th/user/purchase/order/147961049273230\n",
      "157/207 https://shopee.co.th/user/purchase/order/147960869205066\n",
      "158/207 https://shopee.co.th/user/purchase/order/147960350225456\n",
      "159/207 https://shopee.co.th/user/purchase/order/147960869205065\n",
      "160/207 https://shopee.co.th/user/purchase/order/148296502201713\n",
      "161/207 https://shopee.co.th/user/purchase/order/148296502201710\n",
      "162/207 https://shopee.co.th/user/purchase/order/148296502201711\n",
      "163/207 https://shopee.co.th/user/purchase/order/148296502201712\n",
      "164/207 https://shopee.co.th/user/purchase/order/148296502201714\n",
      "165/207 https://shopee.co.th/user/purchase/order/148471520289272\n",
      "166/207 https://shopee.co.th/user/purchase/order/148471520289271\n",
      "167/207 https://shopee.co.th/user/purchase/order/148730172212340\n",
      "168/207 https://shopee.co.th/user/purchase/order/148730172212342\n",
      "169/207 https://shopee.co.th/user/purchase/order/148730172212341\n",
      "170/207 https://shopee.co.th/user/purchase/order/149333734252391\n",
      "171/207 https://shopee.co.th/user/purchase/order/149333734252390\n",
      "172/207 https://shopee.co.th/user/purchase/order/149333734252392\n",
      "173/207 https://shopee.co.th/user/purchase/order/149850195295831\n",
      "174/207 https://shopee.co.th/user/purchase/order/149850195295831\n",
      "175/207 https://shopee.co.th/user/purchase/order/149850195295833\n",
      "176/207 https://shopee.co.th/user/purchase/order/149850195295830\n",
      "177/207 https://shopee.co.th/user/purchase/order/150284726260090\n",
      "178/207 https://shopee.co.th/user/purchase/order/149850384228335\n",
      "179/207 https://shopee.co.th/user/purchase/order/149850318230381\n",
      "180/207 https://shopee.co.th/user/purchase/order/149850318230381\n",
      "181/207 https://shopee.co.th/user/purchase/order/149850318230381\n",
      "182/207 https://shopee.co.th/user/purchase/order/149850318230382\n",
      "183/207 https://shopee.co.th/user/purchase/order/149850195295832\n",
      "184/207 https://shopee.co.th/user/purchase/order/149850195295834\n",
      "185/207 https://shopee.co.th/user/purchase/order/149850195295835\n",
      "186/207 https://shopee.co.th/user/purchase/order/150024018274518\n",
      "187/207 https://shopee.co.th/user/purchase/order/150024018274517\n",
      "188/207 https://shopee.co.th/user/purchase/order/150024018274519\n",
      "189/207 https://shopee.co.th/user/purchase/order/150284726260089\n",
      "190/207 https://shopee.co.th/user/purchase/order/150284726260087\n",
      "191/207 https://shopee.co.th/user/purchase/order/150284726260085\n",
      "192/207 https://shopee.co.th/user/purchase/order/150284726260091\n",
      "193/207 https://shopee.co.th/user/purchase/order/150284726260086\n",
      "194/207 https://shopee.co.th/user/purchase/order/150284726260088\n",
      "195/207 https://shopee.co.th/user/purchase/order/150284726260092\n",
      "196/207 https://shopee.co.th/user/purchase/order/150628007234194\n",
      "197/207 https://shopee.co.th/user/purchase/order/150627936243718\n",
      "198/207 https://shopee.co.th/user/purchase/order/150627936243717\n",
      "199/207 https://shopee.co.th/user/purchase/order/150627857222551\n",
      "200/207 https://shopee.co.th/user/purchase/order/150627857222550\n",
      "201/207 https://shopee.co.th/user/purchase/order/150627857222552\n",
      "202/207 https://shopee.co.th/user/purchase/order/150627857222548\n",
      "203/207 https://shopee.co.th/user/purchase/order/150628007234192\n",
      "204/207 https://shopee.co.th/user/purchase/order/150627857222547\n",
      "205/207 https://shopee.co.th/user/purchase/order/150627857222549\n",
      "206/207 https://shopee.co.th/user/purchase/order/150628007234193\n",
      "207/207 https://shopee.co.th/user/purchase/order/150628041206898\n"
     ]
    }
   ],
   "source": [
    "# Load the environment variables from the .env file\n",
    "env_vars = dotenv_values('.env')\n",
    "username = env_vars['USERNAME']\n",
    "password = env_vars['PASSWORD']\n",
    "\n",
    "with open('purchased-link.txt', 'r') as f:\n",
    "    urls = f.readlines()\n",
    "\n",
    "records = []\n",
    "nlines = len(urls)\n",
    "\n",
    "driver = perform_login(username, password)\n",
    "for i in range(nlines):\n",
    "    url = urls[i].strip().split(\"?\")[0]\n",
    "    print(f\"{i+1}/{nlines}\", url)\n",
    "\n",
    "    data = scrape_data(url, driver)\n",
    "    for d in data:\n",
    "        records.append(d)\n",
    "    time.sleep(0.5)\n",
    "\n",
    "df = pd.DataFrame(records, columns=['url', 'title', 'price'])\n",
    "df\n",
    "df.to_csv('Shopee_Purchased.csv', encoding='utf-8', index=False)\n",
    "driver.quit()"
   ]
  }
 ],
 "metadata": {
  "interpreter": {
   "hash": "5ecb3a2dd521a260efab0c8465685b65d423102f6a05d3ed42acaa91136ba2a0"
  },
  "kernelspec": {
   "display_name": "Python 3.8.5 ('base')",
   "language": "python",
   "name": "python3"
  },
  "language_info": {
   "codemirror_mode": {
    "name": "ipython",
    "version": 3
   },
   "file_extension": ".py",
   "mimetype": "text/x-python",
   "name": "python",
   "nbconvert_exporter": "python",
   "pygments_lexer": "ipython3",
   "version": "3.10.11"
  },
  "orig_nbformat": 4
 },
 "nbformat": 4,
 "nbformat_minor": 2
}
